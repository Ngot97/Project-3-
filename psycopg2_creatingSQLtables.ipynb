{
 "cells": [
  {
   "cell_type": "code",
   "execution_count": 1,
   "id": "23ffe87b",
   "metadata": {},
   "outputs": [],
   "source": [
    "import psycopg2\n",
    "import sys\n",
    "\n",
    "from psycopg2 import sql\n",
    "import csv\n",
    "import os\n",
    "\n",
    "\n",
    "from config import database_params"
   ]
  },
  {
   "cell_type": "code",
   "execution_count": 2,
   "id": "13914d61",
   "metadata": {},
   "outputs": [
    {
     "ename": "DuplicateDatabase",
     "evalue": "database \"book_recommendation_db\" already exists\n",
     "output_type": "error",
     "traceback": [
      "\u001b[1;31m---------------------------------------------------------------------------\u001b[0m",
      "\u001b[1;31mDuplicateDatabase\u001b[0m                         Traceback (most recent call last)",
      "Cell \u001b[1;32mIn[2], line 14\u001b[0m\n\u001b[0;32m     12\u001b[0m \u001b[38;5;66;03m# Execute a SQL command to create a new database\u001b[39;00m\n\u001b[0;32m     13\u001b[0m create_database_query \u001b[38;5;241m=\u001b[39m \u001b[38;5;124mf\u001b[39m\u001b[38;5;124m\"\u001b[39m\u001b[38;5;124mCREATE DATABASE \u001b[39m\u001b[38;5;132;01m{\u001b[39;00mnew_database_name\u001b[38;5;132;01m}\u001b[39;00m\u001b[38;5;124m;\u001b[39m\u001b[38;5;124m\"\u001b[39m\n\u001b[1;32m---> 14\u001b[0m cursor\u001b[38;5;241m.\u001b[39mexecute(create_database_query)\n\u001b[0;32m     15\u001b[0m \u001b[38;5;66;03m# Reset autocommit to the default (optional)\u001b[39;00m\n\u001b[0;32m     16\u001b[0m connection\u001b[38;5;241m.\u001b[39mautocommit \u001b[38;5;241m=\u001b[39m \u001b[38;5;28;01mFalse\u001b[39;00m\n",
      "\u001b[1;31mDuplicateDatabase\u001b[0m: database \"book_recommendation_db\" already exists\n"
     ]
    }
   ],
   "source": [
    "\n",
    "\n",
    "# Connect to the default PostgreSQL database\n",
    "connection_params = database_params\n",
    "\n",
    "\n",
    "connection = psycopg2.connect(**connection_params)\n",
    "# Ensure that the CREATE DATABASE command is not inside a transaction block\n",
    "connection.autocommit = True\n",
    "# Create a cursor\n",
    "cursor = connection.cursor()\n",
    "# Create database\n",
    "new_database_name = 'Book_recommendation_db'\n",
    "# Execute a SQL command to create a new database\n",
    "create_database_query = f\"CREATE DATABASE {new_database_name};\"\n",
    "cursor.execute(create_database_query)\n",
    "# Reset autocommit to the default (optional)\n",
    "connection.autocommit = False\n"
   ]
  },
  {
   "cell_type": "code",
   "execution_count": 3,
   "id": "73d56e7f",
   "metadata": {},
   "outputs": [],
   "source": [
    "\n",
    "# Connect to the default PostgreSQL database\n",
    "connection_params = database_params\n",
    "\n",
    "connection = psycopg2.connect(**connection_params)\n",
    "\n",
    "# Create a cursor\n",
    "cursor = connection.cursor()\n",
    "\n",
    "\n",
    "\n",
    "# Create Books table\n",
    "create_books_table = \"\"\"\n",
    "CREATE TABLE IF NOT EXISTS Books (\n",
    "    ISBN VARCHAR,\n",
    "    Book_Title VARCHAR,\n",
    "    Book_Author VARCHAR,\n",
    "    Year_Of_Publication INT,\n",
    "    Publisher VARCHAR,\n",
    "    CONSTRAINT pk_Books PRIMARY KEY (ISBN)\n",
    ");\n",
    "\"\"\"\n",
    "cursor.execute(create_books_table)\n",
    "\n",
    "# Create Users table\n",
    "create_users_table = \"\"\"\n",
    "CREATE TABLE IF NOT EXISTS Users (\n",
    "    User_ID INT,\n",
    "    Age FLOAT,\n",
    "    City VARCHAR,\n",
    "    State VARCHAR,\n",
    "    Country VARCHAR,\n",
    "    CONSTRAINT pk_Users PRIMARY KEY (User_ID)\n",
    ");\n",
    "\"\"\"\n",
    "cursor.execute(create_users_table)\n",
    "\n",
    "# Create Ratings table\n",
    "create_ratings_table = \"\"\"\n",
    "CREATE TABLE IF NOT EXISTS Ratings (\n",
    "    User_ID INT,\n",
    "    ISBN VARCHAR,\n",
    "    Book_Rating INT,\n",
    "    CONSTRAINT fk_Ratings_User_ID FOREIGN KEY (User_ID) REFERENCES Users (User_ID),\n",
    "    CONSTRAINT fk_Ratings_ISBN FOREIGN KEY (ISBN) REFERENCES Books (ISBN)\n",
    ");\n",
    "\"\"\"\n",
    "cursor.execute(create_ratings_table)\n",
    "\n",
    "# Commit your changes\n",
    "connection.commit()"
   ]
  },
  {
   "cell_type": "code",
   "execution_count": 4,
   "id": "4976f97c",
   "metadata": {},
   "outputs": [],
   "source": [
    "# Commit the changes and close the connection\n",
    "cursor.close()\n",
    "connection.close()"
   ]
  }
 ],
 "metadata": {
  "kernelspec": {
   "display_name": "Python 3 (ipykernel)",
   "language": "python",
   "name": "python3"
  },
  "language_info": {
   "codemirror_mode": {
    "name": "ipython",
    "version": 3
   },
   "file_extension": ".py",
   "mimetype": "text/x-python",
   "name": "python",
   "nbconvert_exporter": "python",
   "pygments_lexer": "ipython3",
   "version": "3.11.5"
  }
 },
 "nbformat": 4,
 "nbformat_minor": 5
}
